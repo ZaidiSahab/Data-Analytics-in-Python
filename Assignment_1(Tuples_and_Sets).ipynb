{
  "nbformat": 4,
  "nbformat_minor": 0,
  "metadata": {
    "colab": {
      "provenance": []
    },
    "kernelspec": {
      "name": "python3",
      "display_name": "Python 3"
    },
    "language_info": {
      "name": "python"
    }
  },
  "cells": [
    {
      "cell_type": "markdown",
      "source": [
        "**Tuples: Questions**"
      ],
      "metadata": {
        "id": "Hcr7rmmUt8QJ"
      }
    },
    {
      "cell_type": "markdown",
      "source": [
        "**Create a tuple containing the following elements: 42, \"apple\", 3.14, and True.**"
      ],
      "metadata": {
        "id": "zNYWXDGTuL6f"
      }
    },
    {
      "cell_type": "code",
      "execution_count": 1,
      "metadata": {
        "colab": {
          "base_uri": "https://localhost:8080/"
        },
        "id": "eSgGNjP1tsxg",
        "outputId": "137ed903-5a6e-4f71-c35e-0f8144f73430"
      },
      "outputs": [
        {
          "output_type": "stream",
          "name": "stdout",
          "text": [
            "4\n"
          ]
        }
      ],
      "source": [
        "elements=(42,\"apple\",3.14, True)\n",
        "print(len(elements))"
      ]
    },
    {
      "cell_type": "markdown",
      "source": [
        "**Print the first and last elements of the tuple.**"
      ],
      "metadata": {
        "id": "72JzM_zrvh7g"
      }
    },
    {
      "cell_type": "code",
      "source": [
        "elements=(42,\"apple\",3.14, True)\n",
        "print(elements[0],\" , \",elements[-1])\n"
      ],
      "metadata": {
        "colab": {
          "base_uri": "https://localhost:8080/"
        },
        "id": "nhX0jSVOvaOd",
        "outputId": "e56e5167-17ca-4e63-e6bc-cb8035cd8208"
      },
      "execution_count": 12,
      "outputs": [
        {
          "output_type": "stream",
          "name": "stdout",
          "text": [
            "42  ,  True\n"
          ]
        }
      ]
    },
    {
      "cell_type": "markdown",
      "source": [
        "**Create two tuples: tuple1 with elements (10, 20, 30) and tuple2 with elements (40, 50, 60) **Concatenate** these two tuples and print the result.\n",
        "**"
      ],
      "metadata": {
        "id": "jNPR5ssqwpHQ"
      }
    },
    {
      "cell_type": "code",
      "source": [
        "\n",
        "elem1=(10,20,30)\n",
        "elem2=(40,50,60)\n",
        "\n",
        "r= elem1 +elem2\n",
        "print(\"Result: \",r)"
      ],
      "metadata": {
        "colab": {
          "base_uri": "https://localhost:8080/"
        },
        "id": "W8FybEdJvtUA",
        "outputId": "6f9e4d03-5e8a-4ba0-8a7a-61aa02ad0a16"
      },
      "execution_count": 18,
      "outputs": [
        {
          "output_type": "stream",
          "name": "stdout",
          "text": [
            "Result:  (10, 20, 30, 40, 50, 60)\n"
          ]
        }
      ]
    },
    {
      "cell_type": "markdown",
      "source": [
        "**Repeat tuple1 three times and print the result.**"
      ],
      "metadata": {
        "id": "08wdY4Jax6le"
      }
    },
    {
      "cell_type": "code",
      "source": [
        "\n",
        "elem1=(10,20,30)\n",
        "elem2=(40,50,60)\n",
        "r= elem1* 3 +elem2\n",
        "print(\"Result: \",r)"
      ],
      "metadata": {
        "colab": {
          "base_uri": "https://localhost:8080/"
        },
        "id": "VG2Kj5OyxMCh",
        "outputId": "c077444c-fef7-4917-c64a-2814eba42330"
      },
      "execution_count": 24,
      "outputs": [
        {
          "output_type": "stream",
          "name": "stdout",
          "text": [
            "Result:  (10, 20, 30, 10, 20, 30, 10, 20, 30, 40, 50, 60)\n"
          ]
        }
      ]
    },
    {
      "cell_type": "markdown",
      "source": [
        "**Create a tuple with three elements: \"Python\", 5.0, and 2024. Unpack the tuple into three variables and print each variable.**"
      ],
      "metadata": {
        "id": "C5ZaVyPezL9-"
      }
    },
    {
      "cell_type": "code",
      "source": [
        "elem=(\"Python\",5.0,2024)\n",
        "\n",
        "e1=elem[0]\n",
        "e2=elem[1]\n",
        "e3=elem[2]\n",
        "\n",
        "print(e1)\n",
        "print(e2)\n",
        "print(e3)"
      ],
      "metadata": {
        "colab": {
          "base_uri": "https://localhost:8080/"
        },
        "id": "x8VS3kaeyLRW",
        "outputId": "398101d4-8a4c-4a08-dcf8-aa567f3e3d5d"
      },
      "execution_count": 27,
      "outputs": [
        {
          "output_type": "stream",
          "name": "stdout",
          "text": [
            "Python\n",
            "5.0\n",
            "2024\n"
          ]
        }
      ]
    },
    {
      "cell_type": "markdown",
      "source": [
        "**Create a tuple containing another tuple inside it: ((1, 2, 3), (4, 5, 6)).Access and print the element 5 from the nested tuple.**"
      ],
      "metadata": {
        "id": "YNxqT_iF0Og2"
      }
    },
    {
      "cell_type": "code",
      "source": [
        "elem1=(1,2,3,(4,5,6))\n",
        "\n",
        "e=elem1[3]\n",
        "e1=e[1]\n",
        "\n",
        "print(\"e: \",e)\n",
        "print(\"e1: \", e1)\n",
        "\n"
      ],
      "metadata": {
        "colab": {
          "base_uri": "https://localhost:8080/"
        },
        "id": "6DP7Yzx90Qr2",
        "outputId": "498ff84c-ff85-4f34-8337-89fdcea44cb2"
      },
      "execution_count": 44,
      "outputs": [
        {
          "output_type": "stream",
          "name": "stdout",
          "text": [
            "e:  (4, 5, 6)\n",
            "e1:  5\n"
          ]
        }
      ]
    },
    {
      "cell_type": "markdown",
      "source": [
        "**Practicing Sets:**"
      ],
      "metadata": {
        "id": "kYp1NpXRDx93"
      }
    },
    {
      "cell_type": "markdown",
      "source": [
        "**Create a set with the following elements: \"apple\", \"banana\", \"cherry\".Add a new element \"orange\" to the set.**"
      ],
      "metadata": {
        "id": "GuMw-yT_FD_G"
      }
    },
    {
      "cell_type": "code",
      "source": [
        "elem ={\"apple\",\"banana\",\"cherry\"}\n",
        "\n",
        "r=elem.add(\"orange\")\n",
        "print(elem)"
      ],
      "metadata": {
        "colab": {
          "base_uri": "https://localhost:8080/"
        },
        "id": "mzU6ieCb0pBX",
        "outputId": "5e55ba05-6c7e-4861-ba79-e0daf28a2b4b"
      },
      "execution_count": 47,
      "outputs": [
        {
          "output_type": "stream",
          "name": "stdout",
          "text": [
            "{'orange', 'banana', 'cherry', 'apple'}\n"
          ]
        }
      ]
    },
    {
      "cell_type": "markdown",
      "source": [
        "**Remove the element \"banana\" from the set.**"
      ],
      "metadata": {
        "id": "apTBAl9TFkwW"
      }
    },
    {
      "cell_type": "code",
      "source": [
        "elem ={\"apple\",\"banana\",\"cherry\"}\n",
        "\n",
        "r1=elem.add(\"orange\")\n",
        "\n",
        "print(\"After Adding Orange: \",elem)\n",
        "r2=elem.remove(\"banana\")\n",
        "print(\"After Removing Banana \",elem)"
      ],
      "metadata": {
        "colab": {
          "base_uri": "https://localhost:8080/"
        },
        "id": "L7vAsU4eFanW",
        "outputId": "f317968b-99e0-4c2b-e92b-bbb995dfc5f2"
      },
      "execution_count": 54,
      "outputs": [
        {
          "output_type": "stream",
          "name": "stdout",
          "text": [
            "After Adding Orange:  {'orange', 'banana', 'cherry', 'apple'}\n",
            "After Removing Banana  {'orange', 'cherry', 'apple'}\n"
          ]
        }
      ]
    },
    {
      "cell_type": "markdown",
      "source": [
        "**Check if \"cherry\" is in the set.**"
      ],
      "metadata": {
        "id": "ba0SCSkHGim3"
      }
    },
    {
      "cell_type": "markdown",
      "source": [
        "**1st Example:**"
      ],
      "metadata": {
        "id": "AKi3RCRBOVCN"
      }
    },
    {
      "cell_type": "code",
      "source": [],
      "metadata": {
        "id": "wSU7N7xEOaok"
      },
      "execution_count": null,
      "outputs": []
    },
    {
      "cell_type": "code",
      "source": [
        "elem ={\"apple\",\"banana\",\"cherry\"}\n",
        "\n",
        "r=\"cherry\"\n",
        "\n",
        "if r in elem :\n",
        "  print(f\"{r} is in the set\" )\n",
        "\n",
        "else:\n",
        "  print(f\"{r} is not in the set\")\n"
      ],
      "metadata": {
        "colab": {
          "base_uri": "https://localhost:8080/"
        },
        "id": "mEhTww6QGgyn",
        "outputId": "af7d664b-481e-4f99-bb47-24caf7d7afb2"
      },
      "execution_count": 63,
      "outputs": [
        {
          "output_type": "stream",
          "name": "stdout",
          "text": [
            "cherry is in the set\n"
          ]
        }
      ]
    },
    {
      "cell_type": "markdown",
      "source": [
        "**2nd Example:**"
      ],
      "metadata": {
        "id": "Dm00HivXOPst"
      }
    },
    {
      "cell_type": "markdown",
      "source": [
        "**Check if \"sugar\" is in the set.**"
      ],
      "metadata": {
        "id": "-SoKRW9QOcN8"
      }
    },
    {
      "cell_type": "code",
      "source": [
        "e1={\"potato\",\"cucumber\",\"sugar\"}\n",
        "\n",
        "r=\"sugar\"\n",
        "\n",
        "print(\"All elements: \", e1)\n",
        "\n",
        "if r in e1:\n",
        "  print(f\"{r} is in elements\" )\n",
        "\n",
        "else:\n",
        "  print(f\"{r} is not in elements\")\n"
      ],
      "metadata": {
        "colab": {
          "base_uri": "https://localhost:8080/"
        },
        "id": "upHNYczvMjfi",
        "outputId": "e191664f-2742-4ca2-d5ae-c156c22983d3"
      },
      "execution_count": 72,
      "outputs": [
        {
          "output_type": "stream",
          "name": "stdout",
          "text": [
            "All elements:  {'sugar', 'potato', 'cucumber'}\n",
            "sugar is in elements\n"
          ]
        }
      ]
    },
    {
      "cell_type": "markdown",
      "source": [
        "Create two sets: set1 with elements {1, 2, 3, 4} and set2 with elements {3, 4, 5, 6}.\n",
        "**Find the union of the two sets and print the result.**"
      ],
      "metadata": {
        "id": "xebNo3eHOo5U"
      }
    },
    {
      "cell_type": "code",
      "source": [
        "elem1={1,2,3,4}\n",
        "elem2={3,4,5,6}\n",
        "\n",
        "r=elem1.union(elem2)\n",
        "print (\"Union of e1 and e2 is: \\n \" ,r)\n"
      ],
      "metadata": {
        "colab": {
          "base_uri": "https://localhost:8080/"
        },
        "id": "l4F-5EXHOqPj",
        "outputId": "467d082c-a8a1-4e82-cbab-e0699024c156"
      },
      "execution_count": 81,
      "outputs": [
        {
          "output_type": "stream",
          "name": "stdout",
          "text": [
            "Union of e1 and e2 is: \n",
            "  {1, 2, 3, 4, 5, 6}\n"
          ]
        }
      ]
    },
    {
      "cell_type": "markdown",
      "source": [
        "**Find the intersection of the two sets and print the result.**"
      ],
      "metadata": {
        "id": "wB4KjWobPxRc"
      }
    },
    {
      "cell_type": "code",
      "source": [
        "elem1={1,2,3,4}\n",
        "elem2={3,4,5,6}\n",
        "\n",
        "r=elem1.intersection(elem2)\n",
        "print (\"Intersection of e1 and e2 is: \\n \" ,r)\n"
      ],
      "metadata": {
        "colab": {
          "base_uri": "https://localhost:8080/"
        },
        "id": "BuAIS705PTBC",
        "outputId": "5b76c745-3e5e-4cab-d08a-6540a0751acf"
      },
      "execution_count": 82,
      "outputs": [
        {
          "output_type": "stream",
          "name": "stdout",
          "text": [
            "Intersection of e1 and e2 is: \n",
            "  {3, 4}\n"
          ]
        }
      ]
    },
    {
      "cell_type": "markdown",
      "source": [
        "**Find the difference between set1 and set2 and print the result.**"
      ],
      "metadata": {
        "id": "79wEjJV9QLL0"
      }
    },
    {
      "cell_type": "code",
      "source": [
        "elem1={1,2,3,4}\n",
        "elem2={3,4,5,6}\n",
        "\n",
        "r=elem1.difference(elem2)\n",
        "print (\"Difference of e1 and e2 is: \\n \" ,r)\n"
      ],
      "metadata": {
        "colab": {
          "base_uri": "https://localhost:8080/"
        },
        "id": "WJww8lsGQF0k",
        "outputId": "cfccbb50-0367-4a00-be0a-d7c825ed6225"
      },
      "execution_count": 85,
      "outputs": [
        {
          "output_type": "stream",
          "name": "stdout",
          "text": [
            "Difference of e1 and e2 is: \n",
            "  {1, 2}\n"
          ]
        }
      ]
    },
    {
      "cell_type": "markdown",
      "source": [
        "**Create a set comprehension that generates a set of squares of numbers from 1 to 10.**"
      ],
      "metadata": {
        "id": "7LLP1CuCRuEs"
      }
    },
    {
      "cell_type": "code",
      "source": [
        "elem1={1,2,3,4,5,6,7,8,9,10}\n",
        "\n",
        "print(elem1)\n",
        "for x in elem1:\n",
        "  print(x,\"-\",x*x)\n",
        "#print (\"Difference of e1 and e2 is: \\n \" ,r)\n"
      ],
      "metadata": {
        "colab": {
          "base_uri": "https://localhost:8080/"
        },
        "id": "Gf7gxX5DQUep",
        "outputId": "61d7534f-e130-4862-8b24-5a5e58850a60"
      },
      "execution_count": 101,
      "outputs": [
        {
          "output_type": "stream",
          "name": "stdout",
          "text": [
            "{1, 2, 3, 4, 5, 6, 7, 8, 9, 10}\n",
            "1 - 1\n",
            "2 - 4\n",
            "3 - 9\n",
            "4 - 16\n",
            "5 - 25\n",
            "6 - 36\n",
            "7 - 49\n",
            "8 - 64\n",
            "9 - 81\n",
            "10 - 100\n"
          ]
        }
      ]
    },
    {
      "cell_type": "code",
      "source": [],
      "metadata": {
        "id": "Lgerc5eQS3iW"
      },
      "execution_count": null,
      "outputs": []
    }
  ]
}